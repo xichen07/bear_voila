{
 "cells": [
  {
   "cell_type": "code",
   "execution_count": 2,
   "metadata": {},
   "outputs": [],
   "source": [
    "!pip install -Uqq fastbook\n",
    "import fastbook\n",
    "fastbook.setup_book()"
   ]
  },
  {
   "cell_type": "code",
   "execution_count": 3,
   "metadata": {},
   "outputs": [],
   "source": [
    "from fastbook import *\n",
    "from fastai.vision.widgets import *"
   ]
  },
  {
   "cell_type": "code",
   "execution_count": 9,
   "metadata": {},
   "outputs": [
    {
     "data": {
      "text/plain": [
       "(#1) [Path('export.pkl')]"
      ]
     },
     "execution_count": 9,
     "metadata": {},
     "output_type": "execute_result"
    }
   ],
   "source": [
    "path = Path()\n",
    "path.ls(file_exts='.pkl')"
   ]
  },
  {
   "cell_type": "code",
   "execution_count": 10,
   "metadata": {},
   "outputs": [],
   "source": [
    "learn_inf = load_learner(path/'export.pkl')"
   ]
  },
  {
   "cell_type": "code",
   "execution_count": 11,
   "metadata": {},
   "outputs": [
    {
     "data": {
      "application/vnd.jupyter.widget-view+json": {
       "model_id": "570a31c80a674d3ba8eb43105cbd590e",
       "version_major": 2,
       "version_minor": 0
      },
      "text/plain": [
       "FileUpload(value={}, description='Upload')"
      ]
     },
     "metadata": {},
     "output_type": "display_data"
    }
   ],
   "source": [
    "btn_upload = widgets.FileUpload()\n",
    "btn_upload"
   ]
  },
  {
   "cell_type": "code",
   "execution_count": 12,
   "metadata": {},
   "outputs": [],
   "source": [
    "btn_upload = SimpleNamespace(data = ['images/grizzly.jpg'])"
   ]
  },
  {
   "cell_type": "code",
   "execution_count": 13,
   "metadata": {},
   "outputs": [],
   "source": [
    "img = PILImage.create(btn_upload.data[-1])"
   ]
  },
  {
   "cell_type": "code",
   "execution_count": 14,
   "metadata": {},
   "outputs": [
    {
     "data": {
      "application/vnd.jupyter.widget-view+json": {
       "model_id": "1680df48d1b94379a2ce8d4c9b6f6b40",
       "version_major": 2,
       "version_minor": 0
      },
      "text/plain": [
       "Output()"
      ]
     },
     "metadata": {},
     "output_type": "display_data"
    }
   ],
   "source": [
    "out_pl = widgets.Output()\n",
    "out_pl.clear_output()\n",
    "with out_pl: display(img.to_thumb(128,128))\n",
    "out_pl"
   ]
  },
  {
   "cell_type": "code",
   "execution_count": 15,
   "metadata": {},
   "outputs": [
    {
     "data": {
      "text/html": [],
      "text/plain": [
       "<IPython.core.display.HTML object>"
      ]
     },
     "metadata": {},
     "output_type": "display_data"
    }
   ],
   "source": [
    "pred,pred_idx,probs = learn_inf.predict(img)"
   ]
  },
  {
   "cell_type": "code",
   "execution_count": 16,
   "metadata": {},
   "outputs": [
    {
     "data": {
      "application/vnd.jupyter.widget-view+json": {
       "model_id": "e079b76a7956469e97ff6aa9f79a62d0",
       "version_major": 2,
       "version_minor": 0
      },
      "text/plain": [
       "Label(value='Prediction: grizzly; Probability: 1.0000')"
      ]
     },
     "metadata": {},
     "output_type": "display_data"
    }
   ],
   "source": [
    "lbl_pred = widgets.Label()\n",
    "lbl_pred.value = f'Prediction: {pred}; Probability: {probs[pred_idx]:.04f}'\n",
    "lbl_pred"
   ]
  },
  {
   "cell_type": "code",
   "execution_count": 17,
   "metadata": {},
   "outputs": [
    {
     "data": {
      "application/vnd.jupyter.widget-view+json": {
       "model_id": "3bb35789e432440cb1b4a5bcb1a5645d",
       "version_major": 2,
       "version_minor": 0
      },
      "text/plain": [
       "Button(description='Classify', style=ButtonStyle())"
      ]
     },
     "metadata": {},
     "output_type": "display_data"
    }
   ],
   "source": [
    "btn_run = widgets.Button(description='Classify')\n",
    "btn_run"
   ]
  },
  {
   "cell_type": "code",
   "execution_count": 18,
   "metadata": {},
   "outputs": [],
   "source": [
    "def on_click_classify(change):\n",
    "    img = PILImage.create(btn_upload.data[-1])\n",
    "    out_pl.clear_output()\n",
    "    with out_pl: display(img.to_thumb(128,128))\n",
    "    pred,pred_idx,probs = learn_inf.predict(img)\n",
    "    lbl_pred.value = f'Prediction: {pred}; Probability: {probs[pred_idx]:.04f}'\n",
    "\n",
    "btn_run.on_click(on_click_classify)"
   ]
  },
  {
   "cell_type": "code",
   "execution_count": 19,
   "metadata": {},
   "outputs": [],
   "source": [
    "btn_upload = widgets.FileUpload()"
   ]
  },
  {
   "cell_type": "code",
   "execution_count": 20,
   "metadata": {},
   "outputs": [
    {
     "data": {
      "application/vnd.jupyter.widget-view+json": {
       "model_id": "7627cfef0e314a0186ac9621f41bca75",
       "version_major": 2,
       "version_minor": 0
      },
      "text/plain": [
       "VBox(children=(Label(value='Select your bear!'), FileUpload(value={}, description='Upload'), Button(descriptio…"
      ]
     },
     "metadata": {},
     "output_type": "display_data"
    },
    {
     "ename": "IndexError",
     "evalue": "list index out of range",
     "output_type": "error",
     "traceback": [
      "\u001b[0;31m---------------------------------------------------------------------------\u001b[0m",
      "\u001b[0;31mIndexError\u001b[0m                                Traceback (most recent call last)",
      "\u001b[0;32m<ipython-input-18-e85f52797c49>\u001b[0m in \u001b[0;36mon_click_classify\u001b[0;34m(change)\u001b[0m\n\u001b[1;32m      1\u001b[0m \u001b[0;32mdef\u001b[0m \u001b[0mon_click_classify\u001b[0m\u001b[0;34m(\u001b[0m\u001b[0mchange\u001b[0m\u001b[0;34m)\u001b[0m\u001b[0;34m:\u001b[0m\u001b[0;34m\u001b[0m\u001b[0;34m\u001b[0m\u001b[0m\n\u001b[0;32m----> 2\u001b[0;31m     \u001b[0mimg\u001b[0m \u001b[0;34m=\u001b[0m \u001b[0mPILImage\u001b[0m\u001b[0;34m.\u001b[0m\u001b[0mcreate\u001b[0m\u001b[0;34m(\u001b[0m\u001b[0mbtn_upload\u001b[0m\u001b[0;34m.\u001b[0m\u001b[0mdata\u001b[0m\u001b[0;34m[\u001b[0m\u001b[0;34m-\u001b[0m\u001b[0;36m1\u001b[0m\u001b[0;34m]\u001b[0m\u001b[0;34m)\u001b[0m\u001b[0;34m\u001b[0m\u001b[0;34m\u001b[0m\u001b[0m\n\u001b[0m\u001b[1;32m      3\u001b[0m     \u001b[0mout_pl\u001b[0m\u001b[0;34m.\u001b[0m\u001b[0mclear_output\u001b[0m\u001b[0;34m(\u001b[0m\u001b[0;34m)\u001b[0m\u001b[0;34m\u001b[0m\u001b[0;34m\u001b[0m\u001b[0m\n\u001b[1;32m      4\u001b[0m     \u001b[0;32mwith\u001b[0m \u001b[0mout_pl\u001b[0m\u001b[0;34m:\u001b[0m \u001b[0mdisplay\u001b[0m\u001b[0;34m(\u001b[0m\u001b[0mimg\u001b[0m\u001b[0;34m.\u001b[0m\u001b[0mto_thumb\u001b[0m\u001b[0;34m(\u001b[0m\u001b[0;36m128\u001b[0m\u001b[0;34m,\u001b[0m\u001b[0;36m128\u001b[0m\u001b[0;34m)\u001b[0m\u001b[0;34m)\u001b[0m\u001b[0;34m\u001b[0m\u001b[0;34m\u001b[0m\u001b[0m\n\u001b[1;32m      5\u001b[0m     \u001b[0mpred\u001b[0m\u001b[0;34m,\u001b[0m\u001b[0mpred_idx\u001b[0m\u001b[0;34m,\u001b[0m\u001b[0mprobs\u001b[0m \u001b[0;34m=\u001b[0m \u001b[0mlearn_inf\u001b[0m\u001b[0;34m.\u001b[0m\u001b[0mpredict\u001b[0m\u001b[0;34m(\u001b[0m\u001b[0mimg\u001b[0m\u001b[0;34m)\u001b[0m\u001b[0;34m\u001b[0m\u001b[0;34m\u001b[0m\u001b[0m\n",
      "\u001b[0;31mIndexError\u001b[0m: list index out of range"
     ]
    },
    {
     "data": {
      "text/html": [],
      "text/plain": [
       "<IPython.core.display.HTML object>"
      ]
     },
     "metadata": {},
     "output_type": "display_data"
    },
    {
     "data": {
      "text/html": [],
      "text/plain": [
       "<IPython.core.display.HTML object>"
      ]
     },
     "metadata": {},
     "output_type": "display_data"
    },
    {
     "data": {
      "text/html": [],
      "text/plain": [
       "<IPython.core.display.HTML object>"
      ]
     },
     "metadata": {},
     "output_type": "display_data"
    }
   ],
   "source": [
    "VBox([widgets.Label('Select your bear!'), \n",
    "      btn_upload, btn_run, out_pl, lbl_pred])"
   ]
  },
  {
   "cell_type": "code",
   "execution_count": null,
   "metadata": {},
   "outputs": [
    {
     "name": "stdout",
     "output_type": "stream",
     "text": [
      "Requirement already satisfied: voila in /home/xi.chen/anaconda3/lib/python3.7/site-packages (0.2.2)\n",
      "Requirement already satisfied: jupyter-server<0.4.0,>=0.3.0 in /home/xi.chen/anaconda3/lib/python3.7/site-packages (from voila) (0.3.0)\n",
      "Requirement already satisfied: nbclient<0.6,>=0.4.0 in /home/xi.chen/anaconda3/lib/python3.7/site-packages (from voila) (0.5.0)\n",
      "Requirement already satisfied: jupyter-client<7,>=6.1.3 in /home/xi.chen/anaconda3/lib/python3.7/site-packages (from voila) (6.1.6)\n",
      "Requirement already satisfied: nbconvert<7,>=6.0.0 in /home/xi.chen/anaconda3/lib/python3.7/site-packages (from voila) (6.0.4)\n",
      "Requirement already satisfied: tornado>=5.0 in /home/xi.chen/anaconda3/lib/python3.7/site-packages (from jupyter-server<0.4.0,>=0.3.0->voila) (6.0.4)\n",
      "Requirement already satisfied: Send2Trash in /home/xi.chen/anaconda3/lib/python3.7/site-packages (from jupyter-server<0.4.0,>=0.3.0->voila) (1.5.0)\n",
      "Requirement already satisfied: traitlets>=4.2.1 in /home/xi.chen/anaconda3/lib/python3.7/site-packages (from jupyter-server<0.4.0,>=0.3.0->voila) (4.3.3)\n",
      "Requirement already satisfied: ipython-genutils in /home/xi.chen/anaconda3/lib/python3.7/site-packages (from jupyter-server<0.4.0,>=0.3.0->voila) (0.2.0)\n",
      "Requirement already satisfied: pyzmq>=17 in /home/xi.chen/anaconda3/lib/python3.7/site-packages (from jupyter-server<0.4.0,>=0.3.0->voila) (19.0.1)\n",
      "Requirement already satisfied: ipykernel in /home/xi.chen/anaconda3/lib/python3.7/site-packages (from jupyter-server<0.4.0,>=0.3.0->voila) (5.3.4)\n",
      "Requirement already satisfied: terminado>=0.8.3 in /home/xi.chen/anaconda3/lib/python3.7/site-packages (from jupyter-server<0.4.0,>=0.3.0->voila) (0.8.3)\n",
      "Requirement already satisfied: nbformat in /home/xi.chen/anaconda3/lib/python3.7/site-packages (from jupyter-server<0.4.0,>=0.3.0->voila) (5.0.7)\n",
      "Requirement already satisfied: jupyter-core>=4.4.0 in /home/xi.chen/anaconda3/lib/python3.7/site-packages (from jupyter-server<0.4.0,>=0.3.0->voila) (4.6.3)\n",
      "Requirement already satisfied: jinja2 in /home/xi.chen/anaconda3/lib/python3.7/site-packages (from jupyter-server<0.4.0,>=0.3.0->voila) (2.11.2)\n",
      "Requirement already satisfied: prometheus-client in /home/xi.chen/anaconda3/lib/python3.7/site-packages (from jupyter-server<0.4.0,>=0.3.0->voila) (0.8.0)\n",
      "Requirement already satisfied: async-generator in /home/xi.chen/anaconda3/lib/python3.7/site-packages (from nbclient<0.6,>=0.4.0->voila) (1.10)\n",
      "Requirement already satisfied: nest-asyncio in /home/xi.chen/anaconda3/lib/python3.7/site-packages (from nbclient<0.6,>=0.4.0->voila) (1.4.0)\n",
      "Requirement already satisfied: python-dateutil>=2.1 in /home/xi.chen/anaconda3/lib/python3.7/site-packages (from jupyter-client<7,>=6.1.3->voila) (2.8.1)\n",
      "Requirement already satisfied: mistune<2,>=0.8.1 in /home/xi.chen/anaconda3/lib/python3.7/site-packages (from nbconvert<7,>=6.0.0->voila) (0.8.4)\n",
      "Requirement already satisfied: pandocfilters>=1.4.1 in /home/xi.chen/anaconda3/lib/python3.7/site-packages (from nbconvert<7,>=6.0.0->voila) (1.4.2)\n",
      "Requirement already satisfied: defusedxml in /home/xi.chen/anaconda3/lib/python3.7/site-packages (from nbconvert<7,>=6.0.0->voila) (0.6.0)\n",
      "Requirement already satisfied: entrypoints>=0.2.2 in /home/xi.chen/anaconda3/lib/python3.7/site-packages (from nbconvert<7,>=6.0.0->voila) (0.3)\n",
      "Requirement already satisfied: bleach in /home/xi.chen/anaconda3/lib/python3.7/site-packages (from nbconvert<7,>=6.0.0->voila) (3.1.5)\n",
      "Requirement already satisfied: jupyterlab-pygments in /home/xi.chen/anaconda3/lib/python3.7/site-packages (from nbconvert<7,>=6.0.0->voila) (0.1.1)\n",
      "Requirement already satisfied: testpath in /home/xi.chen/anaconda3/lib/python3.7/site-packages (from nbconvert<7,>=6.0.0->voila) (0.4.4)\n",
      "Requirement already satisfied: pygments>=2.4.1 in /home/xi.chen/anaconda3/lib/python3.7/site-packages (from nbconvert<7,>=6.0.0->voila) (2.6.1)\n",
      "Requirement already satisfied: six in /home/xi.chen/anaconda3/lib/python3.7/site-packages (from traitlets>=4.2.1->jupyter-server<0.4.0,>=0.3.0->voila) (1.15.0)\n",
      "Requirement already satisfied: decorator in /home/xi.chen/anaconda3/lib/python3.7/site-packages (from traitlets>=4.2.1->jupyter-server<0.4.0,>=0.3.0->voila) (4.4.2)\n",
      "Requirement already satisfied: ipython>=5.0.0 in /home/xi.chen/anaconda3/lib/python3.7/site-packages (from ipykernel->jupyter-server<0.4.0,>=0.3.0->voila) (7.17.0)\n",
      "Requirement already satisfied: jsonschema!=2.5.0,>=2.4 in /home/xi.chen/anaconda3/lib/python3.7/site-packages (from nbformat->jupyter-server<0.4.0,>=0.3.0->voila) (3.0.2)\n",
      "Requirement already satisfied: MarkupSafe>=0.23 in /home/xi.chen/anaconda3/lib/python3.7/site-packages (from jinja2->jupyter-server<0.4.0,>=0.3.0->voila) (1.1.1)\n",
      "Requirement already satisfied: webencodings in /home/xi.chen/anaconda3/lib/python3.7/site-packages (from bleach->nbconvert<7,>=6.0.0->voila) (0.5.1)\n",
      "Requirement already satisfied: packaging in /home/xi.chen/anaconda3/lib/python3.7/site-packages (from bleach->nbconvert<7,>=6.0.0->voila) (20.4)\n",
      "Requirement already satisfied: backcall in /home/xi.chen/anaconda3/lib/python3.7/site-packages (from ipython>=5.0.0->ipykernel->jupyter-server<0.4.0,>=0.3.0->voila) (0.2.0)\n",
      "Requirement already satisfied: jedi>=0.10 in /home/xi.chen/anaconda3/lib/python3.7/site-packages (from ipython>=5.0.0->ipykernel->jupyter-server<0.4.0,>=0.3.0->voila) (0.17.1)\n",
      "Requirement already satisfied: pickleshare in /home/xi.chen/anaconda3/lib/python3.7/site-packages (from ipython>=5.0.0->ipykernel->jupyter-server<0.4.0,>=0.3.0->voila) (0.7.5)\n",
      "Requirement already satisfied: setuptools>=18.5 in /home/xi.chen/anaconda3/lib/python3.7/site-packages (from ipython>=5.0.0->ipykernel->jupyter-server<0.4.0,>=0.3.0->voila) (49.6.0.post20200814)\n",
      "Requirement already satisfied: prompt-toolkit!=3.0.0,!=3.0.1,<3.1.0,>=2.0.0 in /home/xi.chen/anaconda3/lib/python3.7/site-packages (from ipython>=5.0.0->ipykernel->jupyter-server<0.4.0,>=0.3.0->voila) (3.0.5)\n",
      "Requirement already satisfied: pexpect; sys_platform != \"win32\" in /home/xi.chen/anaconda3/lib/python3.7/site-packages (from ipython>=5.0.0->ipykernel->jupyter-server<0.4.0,>=0.3.0->voila) (4.8.0)\n",
      "Requirement already satisfied: pyrsistent>=0.14.0 in /home/xi.chen/anaconda3/lib/python3.7/site-packages (from jsonschema!=2.5.0,>=2.4->nbformat->jupyter-server<0.4.0,>=0.3.0->voila) (0.16.0)\n",
      "Requirement already satisfied: attrs>=17.4.0 in /home/xi.chen/anaconda3/lib/python3.7/site-packages (from jsonschema!=2.5.0,>=2.4->nbformat->jupyter-server<0.4.0,>=0.3.0->voila) (19.3.0)\n",
      "Requirement already satisfied: pyparsing>=2.0.2 in /home/xi.chen/anaconda3/lib/python3.7/site-packages (from packaging->bleach->nbconvert<7,>=6.0.0->voila) (2.4.7)\n",
      "Requirement already satisfied: parso<0.8.0,>=0.7.0 in /home/xi.chen/anaconda3/lib/python3.7/site-packages (from jedi>=0.10->ipython>=5.0.0->ipykernel->jupyter-server<0.4.0,>=0.3.0->voila) (0.7.0)\n",
      "Requirement already satisfied: wcwidth in /home/xi.chen/anaconda3/lib/python3.7/site-packages (from prompt-toolkit!=3.0.0,!=3.0.1,<3.1.0,>=2.0.0->ipython>=5.0.0->ipykernel->jupyter-server<0.4.0,>=0.3.0->voila) (0.2.5)\n",
      "Requirement already satisfied: ptyprocess>=0.5 in /home/xi.chen/anaconda3/lib/python3.7/site-packages (from pexpect; sys_platform != \"win32\"->ipython>=5.0.0->ipykernel->jupyter-server<0.4.0,>=0.3.0->voila) (0.6.0)\n"
     ]
    }
   ],
   "source": [
    "!pip install voila\n",
    "!jupyter serverextension enable —sys-prefix voila "
   ]
  },
  {
   "cell_type": "code",
   "execution_count": null,
   "metadata": {},
   "outputs": [],
   "source": []
  }
 ],
 "metadata": {
  "kernelspec": {
   "display_name": "Python 3",
   "language": "python",
   "name": "python3"
  }
 },
 "nbformat": 4,
 "nbformat_minor": 4
}
